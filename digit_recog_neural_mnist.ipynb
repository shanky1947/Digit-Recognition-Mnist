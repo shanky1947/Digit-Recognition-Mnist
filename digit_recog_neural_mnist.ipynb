{
 "cells": [
  {
   "cell_type": "code",
   "execution_count": 6,
   "metadata": {},
   "outputs": [],
   "source": [
    "import tensorflow as tf"
   ]
  },
  {
   "cell_type": "code",
   "execution_count": 7,
   "metadata": {},
   "outputs": [],
   "source": [
    "mnist=tf.keras.datasets.mnist"
   ]
  },
  {
   "cell_type": "code",
   "execution_count": 8,
   "metadata": {},
   "outputs": [],
   "source": [
    "(xtrain,ytrain),(xtest,ytest)=mnist.load_data()"
   ]
  },
  {
   "cell_type": "code",
   "execution_count": 10,
   "metadata": {},
   "outputs": [
    {
     "data": {
      "text/plain": [
       "array([0, 0, 0, 0, 0, 0, 0, 0, 0, 0, 0, 0, 0, 0, 0, 0, 0, 0, 0, 0, 0, 0,\n",
       "       0, 0, 0, 0, 0, 0], dtype=uint8)"
      ]
     },
     "execution_count": 10,
     "metadata": {},
     "output_type": "execute_result"
    }
   ],
   "source": [
    "xtrain[0][0]"
   ]
  },
  {
   "cell_type": "code",
   "execution_count": 28,
   "metadata": {},
   "outputs": [],
   "source": [
    "xtrain=tf.keras.utils.normalize(xtrain, axis=1)\n",
    "xtest=tf.keras.utils.normalize(xtest, axis=1)"
   ]
  },
  {
   "cell_type": "code",
   "execution_count": 41,
   "metadata": {},
   "outputs": [
    {
     "data": {
      "image/png": "[encoded data removed]",
      "text/plain": [
       "<Figure size 432x288 with 1 Axes>"
      ]
     },
     "metadata": {
      "needs_background": "light"
     },
     "output_type": "display_data"
    }
   ],
   "source": [
    "import matplotlib.pyplot as plt\n",
    "d=xtrain[1]\n",
    "d.shape=(28,28)\n",
    "plt.imshow(d)\n",
    "plt.show()"
   ]
  },
  {
   "cell_type": "code",
   "execution_count": 30,
   "metadata": {},
   "outputs": [
    {
     "data": {
      "text/plain": [
       "'1.13.1'"
      ]
     },
     "execution_count": 30,
     "metadata": {},
     "output_type": "execute_result"
    }
   ],
   "source": [
    "tf.__version__"
   ]
  },
  {
   "cell_type": "code",
   "execution_count": 31,
   "metadata": {},
   "outputs": [],
   "source": [
    "#Create Neural Structure\n",
    "model=tf.keras.models.Sequential()\n",
    "#Input Layer\n",
    "model.add(tf.keras.layers.Flatten())\n",
    "#First Hidden Layer\n",
    "model.add(tf.keras.layers.Dense(128,activation=tf.nn.relu))\n",
    "#Second Hidden Layer\n",
    "model.add(tf.keras.layers.Dense(128,activation=tf.nn.relu))\n",
    "#output Layer\n",
    "model.add(tf.keras.layers.Dense(10, activation=tf.nn.softmax))"
   ]
  },
  {
   "cell_type": "code",
   "execution_count": 32,
   "metadata": {},
   "outputs": [],
   "source": [
    "model.compile(optimizer= 'adam' , loss= 'sparse_categorical_crossentropy' , metrics=['accuracy'])"
   ]
  },
  {
   "cell_type": "code",
   "execution_count": 43,
   "metadata": {},
   "outputs": [
    {
     "name": "stdout",
     "output_type": "stream",
     "text": [
      "Epoch 1/6\n",
      "60000/60000 [==============================] - 19s 322us/sample - loss: 0.0554 - acc: 0.9819\n",
      "Epoch 2/6\n",
      "60000/60000 [==============================] - 31s 516us/sample - loss: 0.0439 - acc: 0.9858\n",
      "Epoch 3/6\n",
      "60000/60000 [==============================] - 22s 363us/sample - loss: 0.0336 - acc: 0.9887\n",
      "Epoch 4/6\n",
      "60000/60000 [==============================] - 21s 354us/sample - loss: 0.0253 - acc: 0.9916\n",
      "Epoch 5/6\n",
      "60000/60000 [==============================] - 16s 261us/sample - loss: 0.0212 - acc: 0.9928\n",
      "Epoch 6/6\n",
      "60000/60000 [==============================] - 15s 258us/sample - loss: 0.0195 - acc: 0.9936\n"
     ]
    },
    {
     "data": {
      "text/plain": [
       "<tensorflow.python.keras.callbacks.History at 0x2831f060a58>"
      ]
     },
     "execution_count": 43,
     "metadata": {},
     "output_type": "execute_result"
    }
   ],
   "source": [
    "model.fit(xtrain,ytrain,epochs=6)"
   ]
  },
  {
   "cell_type": "code",
   "execution_count": 44,
   "metadata": {},
   "outputs": [
    {
     "name": "stdout",
     "output_type": "stream",
     "text": [
      "10000/10000 [==============================] - 2s 162us/sample - loss: 0.1146 - acc: 0.9741\n",
      "0.11457556454980514 0.9741\n"
     ]
    }
   ],
   "source": [
    "val_loss, val_acc=model.evaluate(xtest,ytest)\n",
    "print(val_loss,val_acc)"
   ]
  },
  {
   "cell_type": "code",
   "execution_count": 45,
   "metadata": {},
   "outputs": [],
   "source": [
    "pred=model.predict([xtest])"
   ]
  },
  {
   "cell_type": "code",
   "execution_count": 46,
   "metadata": {},
   "outputs": [
    {
     "data": {
      "text/plain": [
       "array([[4.6409157e-12, 6.4253287e-09, 7.1984978e-09, ..., 1.0000000e+00,\n",
       "        1.0897488e-11, 2.1643771e-08],\n",
       "       [3.0853653e-14, 1.3571383e-06, 9.9999869e-01, ..., 6.6854947e-13,\n",
       "        1.2855359e-11, 4.6237437e-19],\n",
       "       [9.8490105e-09, 9.9992096e-01, 5.9378584e-07, ..., 4.9013532e-05,\n",
       "        2.8811673e-05, 5.4538322e-08],\n",
       "       ...,\n",
       "       [1.8933306e-14, 1.1953250e-11, 6.6252471e-14, ..., 5.2837660e-08,\n",
       "        4.3681329e-11, 1.0808172e-06],\n",
       "       [5.7215734e-14, 2.1081551e-11, 1.8296770e-18, ..., 2.7008135e-11,\n",
       "        2.0292562e-07, 1.8117130e-14],\n",
       "       [2.8188604e-12, 2.1030942e-12, 1.2775073e-16, ..., 1.6493981e-18,\n",
       "        1.6792011e-15, 1.3178113e-19]], dtype=float32)"
      ]
     },
     "execution_count": 46,
     "metadata": {},
     "output_type": "execute_result"
    }
   ],
   "source": [
    "pred #these are type of proboabilities"
   ]
  },
  {
   "cell_type": "code",
   "execution_count": 47,
   "metadata": {},
   "outputs": [],
   "source": [
    "import numpy as np"
   ]
  },
  {
   "cell_type": "code",
   "execution_count": 53,
   "metadata": {},
   "outputs": [
    {
     "name": "stdout",
     "output_type": "stream",
     "text": [
      "0\n"
     ]
    }
   ],
   "source": [
    "print(np.argmax(pred[3]))"
   ]
  },
  {
   "cell_type": "code",
   "execution_count": 54,
   "metadata": {},
   "outputs": [
    {
     "data": {
      "text/plain": [
       "<matplotlib.image.AxesImage at 0x2831f027198>"
      ]
     },
     "execution_count": 54,
     "metadata": {},
     "output_type": "execute_result"
    },
    {
     "data": {
      "image/png": "[encoded data removed]",
      "text/plain": [
       "<Figure size 432x288 with 1 Axes>"
      ]
     },
     "metadata": {
      "needs_background": "light"
     },
     "output_type": "display_data"
    }
   ],
   "source": [
    "plt.imshow(xtest[3])"
   ]
  },
  {
   "cell_type": "code",
   "execution_count": null,
   "metadata": {},
   "outputs": [],
   "source": []
  }
 ],
 "metadata": {
  "kernelspec": {
   "display_name": "Python 3",
   "language": "python",
   "name": "python3"
  },
  "language_info": {
   "codemirror_mode": {
    "name": "ipython",
    "version": 3
   },
   "file_extension": ".py",
   "mimetype": "text/x-python",
   "name": "python",
   "nbconvert_exporter": "python",
   "pygments_lexer": "ipython3",
   "version": "3.7.4"
  }
 },
 "nbformat": 4,
 "nbformat_minor": 2
}
