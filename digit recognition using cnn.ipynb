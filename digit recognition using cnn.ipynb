{
 "cells": [
  {
   "cell_type": "code",
   "execution_count": 4,
   "metadata": {},
   "outputs": [
    {
     "name": "stderr",
     "output_type": "stream",
     "text": [
      "Using TensorFlow backend.\n"
     ]
    }
   ],
   "source": [
    "from __future__ import print_function\n",
    "import keras\n",
    "from keras.datasets import mnist\n",
    "from keras.models import Sequential\n",
    "from keras.layers import Dense, Dropout, Flatten\n",
    "from keras.layers import Conv2D, MaxPooling2D\n",
    "from keras import backend as K\n",
    "from keras.preprocessing.image import ImageDataGenerator"
   ]
  },
  {
   "cell_type": "code",
   "execution_count": 92,
   "metadata": {},
   "outputs": [],
   "source": [
    "batch_size = 128\n",
    "num_classes = 10\n",
    "epochs = 50\n",
    "\n",
    "# input image dimensions\n",
    "img_rows, img_cols = 28, 28\n",
    "\n",
    "# the data, split between train and test sets\n",
    "(x_train, y_train), (x_test, y_test) = mnist.load_data()\n",
    "r = 25"
   ]
  },
  {
   "cell_type": "code",
   "execution_count": 93,
   "metadata": {},
   "outputs": [
    {
     "data": {
      "text/plain": [
       "(60000, 28, 28)"
      ]
     },
     "execution_count": 93,
     "metadata": {},
     "output_type": "execute_result"
    }
   ],
   "source": [
    "x_train.shape"
   ]
  },
  {
   "cell_type": "code",
   "execution_count": 94,
   "metadata": {},
   "outputs": [
    {
     "name": "stdout",
     "output_type": "stream",
     "text": [
      "(60000, 28, 28) (60000,) (10000, 28, 28) (10000,)\n"
     ]
    }
   ],
   "source": [
    "print(x_train.shape,y_train.shape,x_test.shape,y_test.shape)"
   ]
  },
  {
   "cell_type": "code",
   "execution_count": 106,
   "metadata": {},
   "outputs": [],
   "source": [
    "if K.image_data_format() == 'channels_first':\n",
    "    x_train = x_train.reshape(x_train.shape[0], 1, img_rows, img_cols)\n",
    "    x_test = x_test.reshape(x_test.shape[0], 1, img_rows, img_cols)\n",
    "    input_shape = (1, img_rows, img_cols)\n",
    "else:\n",
    "    x_train = x_train.reshape(x_train.shape[0], img_rows, img_cols, 1)\n",
    "    x_test = x_test.reshape(x_test.shape[0], img_rows, img_cols, 1)\n",
    "    input_shape = (img_rows, img_cols, 1)"
   ]
  },
  {
   "cell_type": "code",
   "execution_count": 107,
   "metadata": {},
   "outputs": [
    {
     "name": "stdout",
     "output_type": "stream",
     "text": [
      "(28000, 28, 28, 1) (60000, 10) (10000, 28, 28, 1) (10000, 10)\n"
     ]
    }
   ],
   "source": [
    "print(x_train.shape,y_train.shape,x_test.shape,y_test.shape)"
   ]
  },
  {
   "cell_type": "code",
   "execution_count": 108,
   "metadata": {},
   "outputs": [
    {
     "name": "stdout",
     "output_type": "stream",
     "text": [
      "x_train shape: (28000, 28, 28, 1)\n",
      "y_train shape: (60000, 10)\n",
      "28000 train samples\n",
      "10000 test samples\n"
     ]
    }
   ],
   "source": [
    "x_train = x_train.astype('float32')\n",
    "x_test = x_test.astype('float32')\n",
    "x_train /= 255\n",
    "x_test /= 255\n",
    "print('x_train shape:', x_train.shape)\n",
    "print('y_train shape:', y_train.shape)\n",
    "print(x_train.shape[0], 'train samples')\n",
    "print(x_test.shape[0], 'test samples')\n",
    "\n",
    "# convert class vectors to binary class matrices\n",
    "y_train = keras.utils.to_categorical(y_train, num_classes)\n",
    "y_test = keras.utils.to_categorical(y_test, num_classes)"
   ]
  },
  {
   "cell_type": "code",
   "execution_count": 98,
   "metadata": {},
   "outputs": [
    {
     "data": {
      "text/plain": [
       "(60000, 10)"
      ]
     },
     "execution_count": 98,
     "metadata": {},
     "output_type": "execute_result"
    }
   ],
   "source": [
    "y_train.shape"
   ]
  },
  {
   "cell_type": "code",
   "execution_count": 99,
   "metadata": {},
   "outputs": [
    {
     "name": "stdout",
     "output_type": "stream",
     "text": [
      "_________________________________________________________________\n",
      "Layer (type)                 Output Shape              Param #   \n",
      "=================================================================\n",
      "conv2d_9 (Conv2D)            (None, 26, 26, 32)        320       \n",
      "_________________________________________________________________\n",
      "conv2d_10 (Conv2D)           (None, 24, 24, 64)        18496     \n",
      "_________________________________________________________________\n",
      "max_pooling2d_5 (MaxPooling2 (None, 12, 12, 64)        0         \n",
      "_________________________________________________________________\n",
      "dropout_9 (Dropout)          (None, 12, 12, 64)        0         \n",
      "_________________________________________________________________\n",
      "flatten_5 (Flatten)          (None, 9216)              0         \n",
      "_________________________________________________________________\n",
      "dense_9 (Dense)              (None, 128)               1179776   \n",
      "_________________________________________________________________\n",
      "dropout_10 (Dropout)         (None, 128)               0         \n",
      "_________________________________________________________________\n",
      "dense_10 (Dense)             (None, 10)                1290      \n",
      "=================================================================\n",
      "Total params: 1,199,882\n",
      "Trainable params: 1,199,882\n",
      "Non-trainable params: 0\n",
      "_________________________________________________________________\n"
     ]
    }
   ],
   "source": [
    "model = Sequential()\n",
    "model.add(Conv2D(32, kernel_size=(3, 3),activation='relu',input_shape=input_shape))\n",
    "model.add(Conv2D(64, (3, 3), activation='relu'))\n",
    "model.add(MaxPooling2D(pool_size=(2, 2)))\n",
    "model.add(Dropout(0.25))\n",
    "model.add(Flatten())\n",
    "model.add(Dense(128, activation='relu'))\n",
    "model.add(Dropout(0.5))\n",
    "model.add(Dense(10, activation='softmax'))\n",
    "model.summary()"
   ]
  },
  {
   "cell_type": "code",
   "execution_count": 100,
   "metadata": {},
   "outputs": [],
   "source": [
    "model.compile(loss=keras.losses.categorical_crossentropy,\n",
    "              optimizer=keras.optimizers.Adadelta(),\n",
    "              metrics=['accuracy'])"
   ]
  },
  {
   "cell_type": "code",
   "execution_count": 101,
   "metadata": {
    "scrolled": true
   },
   "outputs": [
    {
     "name": "stdout",
     "output_type": "stream",
     "text": [
      "Train on 60000 samples, validate on 10000 samples\n",
      "Epoch 1/50\n",
      "60000/60000 [==============================] - 64s 1ms/step - loss: 0.2697 - acc: 0.9171 - val_loss: 0.0555 - val_acc: 0.9821\n",
      "Epoch 2/50\n",
      "60000/60000 [==============================] - 61s 1ms/step - loss: 0.0905 - acc: 0.9725 - val_loss: 0.0425 - val_acc: 0.9858\n",
      "Epoch 3/50\n",
      "60000/60000 [==============================] - 61s 1ms/step - loss: 0.0648 - acc: 0.9806 - val_loss: 0.0344 - val_acc: 0.9874\n",
      "Epoch 4/50\n",
      "60000/60000 [==============================] - 61s 1ms/step - loss: 0.0548 - acc: 0.9836 - val_loss: 0.0326 - val_acc: 0.9886\n",
      "Epoch 5/50\n",
      "60000/60000 [==============================] - 60s 1ms/step - loss: 0.0457 - acc: 0.9863 - val_loss: 0.0306 - val_acc: 0.9894\n",
      "Epoch 6/50\n",
      "60000/60000 [==============================] - 61s 1ms/step - loss: 0.0418 - acc: 0.9875 - val_loss: 0.0316 - val_acc: 0.9894\n",
      "Epoch 7/50\n",
      "60000/60000 [==============================] - 61s 1ms/step - loss: 0.0369 - acc: 0.9884 - val_loss: 0.0276 - val_acc: 0.9907\n",
      "Epoch 8/50\n",
      "60000/60000 [==============================] - 60s 1ms/step - loss: 0.0347 - acc: 0.9891 - val_loss: 0.0280 - val_acc: 0.9911\n",
      "Epoch 9/50\n",
      "60000/60000 [==============================] - 61s 1ms/step - loss: 0.0320 - acc: 0.9898 - val_loss: 0.0245 - val_acc: 0.9911\n",
      "Epoch 10/50\n",
      "60000/60000 [==============================] - 61s 1ms/step - loss: 0.0284 - acc: 0.9912 - val_loss: 0.0255 - val_acc: 0.9907\n",
      "Epoch 11/50\n",
      "60000/60000 [==============================] - 61s 1ms/step - loss: 0.0274 - acc: 0.9918 - val_loss: 0.0251 - val_acc: 0.9919\n",
      "Epoch 12/50\n",
      "60000/60000 [==============================] - 61s 1ms/step - loss: 0.0256 - acc: 0.9921 - val_loss: 0.0248 - val_acc: 0.9915\n",
      "Epoch 13/50\n",
      "60000/60000 [==============================] - 60s 1ms/step - loss: 0.0250 - acc: 0.9922 - val_loss: 0.0250 - val_acc: 0.9909\n",
      "Epoch 14/50\n",
      "60000/60000 [==============================] - 61s 1ms/step - loss: 0.0233 - acc: 0.9931 - val_loss: 0.0260 - val_acc: 0.9917\n",
      "Epoch 15/50\n",
      "60000/60000 [==============================] - 61s 1ms/step - loss: 0.0212 - acc: 0.9935 - val_loss: 0.0268 - val_acc: 0.9918\n",
      "Epoch 16/50\n",
      "60000/60000 [==============================] - 60s 1ms/step - loss: 0.0202 - acc: 0.9937 - val_loss: 0.0278 - val_acc: 0.9921\n",
      "Epoch 17/50\n",
      "60000/60000 [==============================] - 61s 1ms/step - loss: 0.0205 - acc: 0.9936 - val_loss: 0.0280 - val_acc: 0.9915\n",
      "Epoch 18/50\n",
      "60000/60000 [==============================] - 61s 1ms/step - loss: 0.0195 - acc: 0.9936 - val_loss: 0.0251 - val_acc: 0.9924\n",
      "Epoch 19/50\n",
      "60000/60000 [==============================] - 61s 1ms/step - loss: 0.0193 - acc: 0.9939 - val_loss: 0.0288 - val_acc: 0.9916\n",
      "Epoch 20/50\n",
      "60000/60000 [==============================] - 60s 1ms/step - loss: 0.0185 - acc: 0.9940 - val_loss: 0.0294 - val_acc: 0.9916\n",
      "Epoch 21/50\n",
      "60000/60000 [==============================] - 61s 1ms/step - loss: 0.0184 - acc: 0.9945 - val_loss: 0.0259 - val_acc: 0.9921\n",
      "Epoch 22/50\n",
      "60000/60000 [==============================] - 62s 1ms/step - loss: 0.0176 - acc: 0.9944 - val_loss: 0.0265 - val_acc: 0.9928\n",
      "Epoch 23/50\n",
      "60000/60000 [==============================] - 61s 1ms/step - loss: 0.0170 - acc: 0.9947 - val_loss: 0.0289 - val_acc: 0.9918\n",
      "Epoch 24/50\n",
      "60000/60000 [==============================] - 66s 1ms/step - loss: 0.0160 - acc: 0.9951 - val_loss: 0.0304 - val_acc: 0.9914\n",
      "Epoch 25/50\n",
      "60000/60000 [==============================] - 63s 1ms/step - loss: 0.0151 - acc: 0.9953 - val_loss: 0.0258 - val_acc: 0.9917\n",
      "Epoch 26/50\n",
      "60000/60000 [==============================] - 62s 1ms/step - loss: 0.0160 - acc: 0.9950 - val_loss: 0.0285 - val_acc: 0.9920\n",
      "Epoch 27/50\n",
      "60000/60000 [==============================] - 62s 1ms/step - loss: 0.0162 - acc: 0.9948 - val_loss: 0.0260 - val_acc: 0.9922\n",
      "Epoch 28/50\n",
      "60000/60000 [==============================] - 63s 1ms/step - loss: 0.0150 - acc: 0.9953 - val_loss: 0.0271 - val_acc: 0.9920\n",
      "Epoch 29/50\n",
      "60000/60000 [==============================] - 61s 1ms/step - loss: 0.0155 - acc: 0.9950 - val_loss: 0.0308 - val_acc: 0.9920\n",
      "Epoch 30/50\n",
      "60000/60000 [==============================] - 61s 1ms/step - loss: 0.0154 - acc: 0.9950 - val_loss: 0.0257 - val_acc: 0.9925\n",
      "Epoch 31/50\n",
      "60000/60000 [==============================] - 61s 1ms/step - loss: 0.0154 - acc: 0.9951 - val_loss: 0.0266 - val_acc: 0.9925\n",
      "Epoch 32/50\n",
      "60000/60000 [==============================] - 61s 1ms/step - loss: 0.0136 - acc: 0.9955 - val_loss: 0.0325 - val_acc: 0.9918\n",
      "Epoch 33/50\n",
      "60000/60000 [==============================] - 73s 1ms/step - loss: 0.0146 - acc: 0.9949 - val_loss: 0.0296 - val_acc: 0.9935\n",
      "Epoch 34/50\n",
      "60000/60000 [==============================] - 62s 1ms/step - loss: 0.0125 - acc: 0.9959 - val_loss: 0.0296 - val_acc: 0.9927\n",
      "Epoch 35/50\n",
      "60000/60000 [==============================] - 60s 1ms/step - loss: 0.0132 - acc: 0.9957 - val_loss: 0.0335 - val_acc: 0.9916\n",
      "Epoch 36/50\n",
      "60000/60000 [==============================] - 61s 1ms/step - loss: 0.0128 - acc: 0.9960 - val_loss: 0.0295 - val_acc: 0.9926\n",
      "Epoch 37/50\n",
      "60000/60000 [==============================] - 60s 1ms/step - loss: 0.0140 - acc: 0.9959 - val_loss: 0.0297 - val_acc: 0.9921\n",
      "Epoch 38/50\n",
      "60000/60000 [==============================] - 61s 1ms/step - loss: 0.0135 - acc: 0.9957 - val_loss: 0.0324 - val_acc: 0.9924\n",
      "Epoch 39/50\n",
      "60000/60000 [==============================] - 60s 1ms/step - loss: 0.0134 - acc: 0.9954 - val_loss: 0.0257 - val_acc: 0.9934\n",
      "Epoch 40/50\n",
      "60000/60000 [==============================] - 61s 1ms/step - loss: 0.0115 - acc: 0.9962 - val_loss: 0.0309 - val_acc: 0.9917\n",
      "Epoch 41/50\n",
      "60000/60000 [==============================] - 61s 1ms/step - loss: 0.0143 - acc: 0.9954 - val_loss: 0.0334 - val_acc: 0.9927\n",
      "Epoch 42/50\n",
      "60000/60000 [==============================] - 61s 1ms/step - loss: 0.0124 - acc: 0.9959 - val_loss: 0.0282 - val_acc: 0.9933\n",
      "Epoch 43/50\n",
      "60000/60000 [==============================] - 61s 1ms/step - loss: 0.0119 - acc: 0.9961 - val_loss: 0.0292 - val_acc: 0.9926\n",
      "Epoch 44/50\n",
      "60000/60000 [==============================] - 61s 1ms/step - loss: 0.0105 - acc: 0.9963 - val_loss: 0.0279 - val_acc: 0.9925\n",
      "Epoch 45/50\n",
      "60000/60000 [==============================] - 62s 1ms/step - loss: 0.0111 - acc: 0.9964 - val_loss: 0.0269 - val_acc: 0.9931\n",
      "Epoch 46/50\n",
      "60000/60000 [==============================] - 62s 1ms/step - loss: 0.0105 - acc: 0.9970 - val_loss: 0.0283 - val_acc: 0.9929\n",
      "Epoch 47/50\n",
      "60000/60000 [==============================] - 61s 1ms/step - loss: 0.0115 - acc: 0.9963 - val_loss: 0.0278 - val_acc: 0.9928\n",
      "Epoch 48/50\n",
      "60000/60000 [==============================] - 63s 1ms/step - loss: 0.0114 - acc: 0.9963 - val_loss: 0.0304 - val_acc: 0.9924\n",
      "Epoch 49/50\n",
      "60000/60000 [==============================] - 62s 1ms/step - loss: 0.0114 - acc: 0.9962 - val_loss: 0.0324 - val_acc: 0.9921\n",
      "Epoch 50/50\n",
      "60000/60000 [==============================] - 61s 1ms/step - loss: 0.0123 - acc: 0.9962 - val_loss: 0.0281 - val_acc: 0.9936\n"
     ]
    },
    {
     "data": {
      "text/plain": [
       "<keras.callbacks.History at 0x2454a89e7c8>"
      ]
     },
     "execution_count": 101,
     "metadata": {},
     "output_type": "execute_result"
    }
   ],
   "source": [
    "model.fit(x_train, y_train,\n",
    "          batch_size=batch_size,\n",
    "          epochs=epochs,\n",
    "          verbose=1,\n",
    "          validation_data=(x_test, y_test))"
   ]
  },
  {
   "cell_type": "code",
   "execution_count": 102,
   "metadata": {},
   "outputs": [
    {
     "name": "stdout",
     "output_type": "stream",
     "text": [
      "Test loss: 0.028092098616300246\n",
      "Test accuracy: 0.9936\n"
     ]
    }
   ],
   "source": [
    "score = model.evaluate(x_test, y_test, verbose=0)\n",
    "print('Test loss:', score[0])\n",
    "print('Test accuracy:', score[1])"
   ]
  },
  {
   "cell_type": "code",
   "execution_count": 103,
   "metadata": {},
   "outputs": [],
   "source": [
    "dt=pd.read_csv(r'D:\\ML\\DATA\\Digit Recognizer\\test.csv')"
   ]
  },
  {
   "cell_type": "code",
   "execution_count": 104,
   "metadata": {},
   "outputs": [
    {
     "data": {
      "text/html": [
       "<div>\n",
       "<style scoped>\n",
       "    .dataframe tbody tr th:only-of-type {\n",
       "        vertical-align: middle;\n",
       "    }\n",
       "\n",
       "    .dataframe tbody tr th {\n",
       "        vertical-align: top;\n",
       "    }\n",
       "\n",
       "    .dataframe thead th {\n",
       "        text-align: right;\n",
       "    }\n",
       "</style>\n",
       "<table border=\"1\" class=\"dataframe\">\n",
       "  <thead>\n",
       "    <tr style=\"text-align: right;\">\n",
       "      <th></th>\n",
       "      <th>pixel0</th>\n",
       "      <th>pixel1</th>\n",
       "      <th>pixel2</th>\n",
       "      <th>pixel3</th>\n",
       "      <th>pixel4</th>\n",
       "      <th>pixel5</th>\n",
       "      <th>pixel6</th>\n",
       "      <th>pixel7</th>\n",
       "      <th>pixel8</th>\n",
       "      <th>pixel9</th>\n",
       "      <th>...</th>\n",
       "      <th>pixel774</th>\n",
       "      <th>pixel775</th>\n",
       "      <th>pixel776</th>\n",
       "      <th>pixel777</th>\n",
       "      <th>pixel778</th>\n",
       "      <th>pixel779</th>\n",
       "      <th>pixel780</th>\n",
       "      <th>pixel781</th>\n",
       "      <th>pixel782</th>\n",
       "      <th>pixel783</th>\n",
       "    </tr>\n",
       "  </thead>\n",
       "  <tbody>\n",
       "    <tr>\n",
       "      <th>0</th>\n",
       "      <td>0</td>\n",
       "      <td>0</td>\n",
       "      <td>0</td>\n",
       "      <td>0</td>\n",
       "      <td>0</td>\n",
       "      <td>0</td>\n",
       "      <td>0</td>\n",
       "      <td>0</td>\n",
       "      <td>0</td>\n",
       "      <td>0</td>\n",
       "      <td>...</td>\n",
       "      <td>0</td>\n",
       "      <td>0</td>\n",
       "      <td>0</td>\n",
       "      <td>0</td>\n",
       "      <td>0</td>\n",
       "      <td>0</td>\n",
       "      <td>0</td>\n",
       "      <td>0</td>\n",
       "      <td>0</td>\n",
       "      <td>0</td>\n",
       "    </tr>\n",
       "  </tbody>\n",
       "</table>\n",
       "<p>1 rows × 784 columns</p>\n",
       "</div>"
      ],
      "text/plain": [
       "   pixel0  pixel1  pixel2  pixel3  pixel4  pixel5  pixel6  pixel7  pixel8  \\\n",
       "0       0       0       0       0       0       0       0       0       0   \n",
       "\n",
       "   pixel9  ...  pixel774  pixel775  pixel776  pixel777  pixel778  pixel779  \\\n",
       "0       0  ...         0         0         0         0         0         0   \n",
       "\n",
       "   pixel780  pixel781  pixel782  pixel783  \n",
       "0         0         0         0         0  \n",
       "\n",
       "[1 rows x 784 columns]"
      ]
     },
     "execution_count": 104,
     "metadata": {},
     "output_type": "execute_result"
    }
   ],
   "source": [
    "dt.head(1)"
   ]
  },
  {
   "cell_type": "code",
   "execution_count": 105,
   "metadata": {},
   "outputs": [],
   "source": [
    "x_train=dt.values"
   ]
  },
  {
   "cell_type": "code",
   "execution_count": 45,
   "metadata": {},
   "outputs": [
    {
     "data": {
      "text/plain": [
       "(28000, 784)"
      ]
     },
     "execution_count": 45,
     "metadata": {},
     "output_type": "execute_result"
    }
   ],
   "source": [
    "x_train.shape"
   ]
  },
  {
   "cell_type": "code",
   "execution_count": 109,
   "metadata": {},
   "outputs": [],
   "source": [
    "import numpy as np\n",
    "# predict results\n",
    "results = model.predict(x_train)\n",
    "\n",
    "# select the indix with the maximum probability\n",
    "results = np.argmax(results,axis = 1)\n",
    "\n",
    "results = pd.Series(results,name=\"Label\")"
   ]
  },
  {
   "cell_type": "code",
   "execution_count": 111,
   "metadata": {},
   "outputs": [],
   "source": [
    "submission = pd.concat([pd.Series(range(1,28001),name = \"ImageId\"),results],axis = 1)\n",
    "\n",
    "submission.to_csv(\"cnn_mnist_datagen_mine.csv\",index=False)"
   ]
  },
  {
   "cell_type": "code",
   "execution_count": null,
   "metadata": {},
   "outputs": [],
   "source": []
  }
 ],
 "metadata": {
  "kernelspec": {
   "display_name": "Python 3",
   "language": "python",
   "name": "python3"
  },
  "language_info": {
   "codemirror_mode": {
    "name": "ipython",
    "version": 3
   },
   "file_extension": ".py",
   "mimetype": "text/x-python",
   "name": "python",
   "nbconvert_exporter": "python",
   "pygments_lexer": "ipython3",
   "version": "3.7.7"
  }
 },
 "nbformat": 4,
 "nbformat_minor": 2
}
